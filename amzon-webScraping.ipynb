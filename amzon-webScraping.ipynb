{
 "cells": [
  {
   "cell_type": "code",
   "execution_count": 1,
   "metadata": {},
   "outputs": [],
   "source": [
    "from autoscraper import AutoScraper"
   ]
  },
  {
   "cell_type": "code",
   "execution_count": 2,
   "metadata": {},
   "outputs": [],
   "source": [
    "amazon_url = \"https://www.amazon.in/s?k=wireless+earphone&ref=nb_sb_noss_2\"\n",
    "\n",
    "wanted_list = [\"₹1,499\",\"boAt Rockerz 255 Pro+ Bluetooth Wireless in Ear Earphones with Mic (Teal Green)\", \"402,308\"]\n",
    "#\n",
    "scraper =AutoScraper()\n",
    "result = scraper.build(amazon_url, wanted_list)\n"
   ]
  },
  {
   "cell_type": "code",
   "execution_count": 3,
   "metadata": {},
   "outputs": [
    {
     "data": {
      "text/plain": [
       "{'rule_tulf': ['₹1,499',\n",
       "  '₹3,990',\n",
       "  '₹1,299',\n",
       "  '₹2,499',\n",
       "  '₹279',\n",
       "  '₹999',\n",
       "  '₹799',\n",
       "  '₹1,599'],\n",
       " 'rule_1yky': ['₹1,499',\n",
       "  '₹3,990',\n",
       "  '₹1,299',\n",
       "  '₹2,499',\n",
       "  '₹279',\n",
       "  '₹999',\n",
       "  '₹799',\n",
       "  '₹1,599'],\n",
       " 'rule_a54d': ['₹1,499',\n",
       "  '₹3,990',\n",
       "  '₹899',\n",
       "  '₹3,999',\n",
       "  '₹1,299',\n",
       "  '₹6,999',\n",
       "  '₹1,599',\n",
       "  '₹2,490',\n",
       "  '₹1,199',\n",
       "  '₹2,499',\n",
       "  '₹999',\n",
       "  '₹4,999'],\n",
       " 'rule_ob60': ['₹1,499',\n",
       "  '₹3,990',\n",
       "  '₹899',\n",
       "  '₹3,999',\n",
       "  '₹1,299',\n",
       "  '₹6,999',\n",
       "  '₹1,599',\n",
       "  '₹2,490',\n",
       "  '₹1,199',\n",
       "  '₹2,499',\n",
       "  '₹999',\n",
       "  '₹4,999'],\n",
       " 'rule_exnz': ['boAt Rockerz 255 Pro+ Bluetooth Wireless in Ear Earphones with Mic (Teal Green)',\n",
       "  'realme Buds Wireless 2 Neo (Black) Earphones with Type-C Fast Charge, Bass Boost+ & Magnetic Instant Connection',\n",
       "  'TEQNEQ Sport Wireless Bluetooth Earphone Neckband, Built-in HD Mic Crystal Clear Voice On Call, Home/Office/Gym Earphone High Bass Noise Cancellation Headphone for All Android Smartphone',\n",
       "  'Wireless Bluetooth Headphones,WAZSAMG Bluetooth Neckband Sport Earphone with Mic, Bass+HD Stereo 8 Hrs Playtime in Ear Wireless Earbuds,IPX7 Waterproof Running Headphones(red)'],\n",
       " 'rule_h5rx': ['boAt Rockerz 255 Pro+ Bluetooth Wireless in Ear Earphones with Mic (Teal Green)',\n",
       "  'realme Buds Wireless 2 Neo (Black) Earphones with Type-C Fast Charge, Bass Boost+ & Magnetic Instant Connection',\n",
       "  'TEQNEQ Sport Wireless Bluetooth Earphone Neckband, Built-in HD Mic Crystal Clear Voice On Call, Home/Office/Gym Earphone H...',\n",
       "  'Wireless Bluetooth Headphones,WAZSAMG Bluetooth Neckband Sport Earphone with Mic, Bass+HD Stereo 8 Hrs Playtime in Ear Wir...'],\n",
       " 'rule_spu7': ['boAt Rockerz 255 Pro+ Bluetooth Wireless in Ear Earphones with Mic (Teal Green)',\n",
       "  'Boult Audio ProBass X1-Air Wireless in Ear Neckband Earphone with Mic (Blue)',\n",
       "  'Boult Audio AirBass MuseBuds True Wireless Earbuds with 18H Total Playtime, Deep bass with Sports fit, IPX5 Sweatproof, Voice Assistant and Built in mic (Black)',\n",
       "  'Sony WI-C200 Wireless Headphones with 15 Hrs Battery Life, Quick Charge, Magnetic Earbuds for Tangle Free Carrying, BT ver 5.0,Work from home, In-Ear Bluetooth Headset with mic for phone calls (Black)',\n",
       "  'boAt Rockerz 205 Pro Wireless Neckband with BeastTM Mode, ENxTM Mode for Clear Voice Delivery, ASAPTM Charge, 10mm Drivers, IPX5, Bluetooth v5.2, 30HRS Playtime(Rising Orange)',\n",
       "  'Boult Audio ProBass Qcharge in-Ear Earphones with Fast Charging, 24H Battery Life, in-Built Mic, IPX5 Water Resistant Neckband (Black)']}"
      ]
     },
     "execution_count": 3,
     "metadata": {},
     "output_type": "execute_result"
    }
   ],
   "source": [
    "scraper.get_result_similar(amazon_url, grouped=True)"
   ]
  },
  {
   "cell_type": "code",
   "execution_count": null,
   "metadata": {},
   "outputs": [],
   "source": []
  },
  {
   "cell_type": "code",
   "execution_count": null,
   "metadata": {},
   "outputs": [],
   "source": []
  },
  {
   "cell_type": "code",
   "execution_count": null,
   "metadata": {},
   "outputs": [],
   "source": []
  },
  {
   "cell_type": "code",
   "execution_count": null,
   "metadata": {},
   "outputs": [],
   "source": []
  },
  {
   "cell_type": "code",
   "execution_count": null,
   "metadata": {},
   "outputs": [],
   "source": []
  },
  {
   "cell_type": "code",
   "execution_count": null,
   "metadata": {},
   "outputs": [],
   "source": []
  },
  {
   "cell_type": "code",
   "execution_count": null,
   "metadata": {},
   "outputs": [],
   "source": []
  }
 ],
 "metadata": {
  "kernelspec": {
   "display_name": "Python 3 (ipykernel)",
   "language": "python",
   "name": "python3"
  },
  "language_info": {
   "codemirror_mode": {
    "name": "ipython",
    "version": 3
   },
   "file_extension": ".py",
   "mimetype": "text/x-python",
   "name": "python",
   "nbconvert_exporter": "python",
   "pygments_lexer": "ipython3",
   "version": "3.9.7"
  }
 },
 "nbformat": 4,
 "nbformat_minor": 4
}
